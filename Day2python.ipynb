{
  "nbformat": 4,
  "nbformat_minor": 0,
  "metadata": {
    "colab": {
      "provenance": []
    },
    "kernelspec": {
      "name": "python3",
      "display_name": "Python 3"
    },
    "language_info": {
      "name": "python"
    }
  },
  "cells": [
    {
      "cell_type": "markdown",
      "source": [
        "# operators"
      ],
      "metadata": {
        "id": "mScQ-ogsfvJJ"
      }
    },
    {
      "cell_type": "code",
      "source": [
        "a=1\n",
        "b=2\n",
        "print(\"addition:\",a+b)"
      ],
      "metadata": {
        "colab": {
          "base_uri": "https://localhost:8080/"
        },
        "id": "yRPOsQ7rfy_U",
        "outputId": "590e0595-ee4f-4664-900f-f519b6cb33a3"
      },
      "execution_count": 3,
      "outputs": [
        {
          "output_type": "stream",
          "name": "stdout",
          "text": [
            "addition: 3\n"
          ]
        }
      ]
    },
    {
      "cell_type": "code",
      "source": [
        "a+b"
      ],
      "metadata": {
        "colab": {
          "base_uri": "https://localhost:8080/"
        },
        "id": "cbmpQAoif9ZV",
        "outputId": "81a0a965-36c1-4516-9823-83c4e84b37b5"
      },
      "execution_count": 4,
      "outputs": [
        {
          "output_type": "execute_result",
          "data": {
            "text/plain": [
              "3"
            ]
          },
          "metadata": {},
          "execution_count": 4
        }
      ]
    },
    {
      "cell_type": "code",
      "source": [
        "a-b"
      ],
      "metadata": {
        "colab": {
          "base_uri": "https://localhost:8080/"
        },
        "id": "G5VmpT3hgHgr",
        "outputId": "29625e36-5318-455b-ad46-dac713e81b4b"
      },
      "execution_count": 5,
      "outputs": [
        {
          "output_type": "execute_result",
          "data": {
            "text/plain": [
              "-1"
            ]
          },
          "metadata": {},
          "execution_count": 5
        }
      ]
    },
    {
      "cell_type": "code",
      "source": [
        "print(\"multiplaction:\"+str(a*b))"
      ],
      "metadata": {
        "colab": {
          "base_uri": "https://localhost:8080/"
        },
        "id": "xHRMFsQcgLpb",
        "outputId": "ed25f8ad-753b-42b1-ec9f-ddc7080902bb"
      },
      "execution_count": 11,
      "outputs": [
        {
          "output_type": "stream",
          "name": "stdout",
          "text": [
            "multiplaction:2\n"
          ]
        }
      ]
    },
    {
      "cell_type": "code",
      "source": [
        "print(\"division:\"+str(a/b))"
      ],
      "metadata": {
        "colab": {
          "base_uri": "https://localhost:8080/"
        },
        "id": "SbNi9xIYgY6K",
        "outputId": "acc5991f-cdc5-49df-b17b-125b9f1e6a48"
      },
      "execution_count": 12,
      "outputs": [
        {
          "output_type": "stream",
          "name": "stdout",
          "text": [
            "division:0.5\n"
          ]
        }
      ]
    },
    {
      "cell_type": "markdown",
      "source": [
        "# floor"
      ],
      "metadata": {
        "id": "Kli8oQFjg2nW"
      }
    },
    {
      "cell_type": "code",
      "source": [
        "a=13\n",
        "b=11"
      ],
      "metadata": {
        "id": "kcLq8RokgpOB"
      },
      "execution_count": 13,
      "outputs": []
    },
    {
      "cell_type": "code",
      "source": [
        "a//b"
      ],
      "metadata": {
        "colab": {
          "base_uri": "https://localhost:8080/"
        },
        "id": "vT2zsLh7gwuR",
        "outputId": "6bbe832a-3a81-47e4-b51f-e687b9683897"
      },
      "execution_count": 14,
      "outputs": [
        {
          "output_type": "execute_result",
          "data": {
            "text/plain": [
              "1"
            ]
          },
          "metadata": {},
          "execution_count": 14
        }
      ]
    },
    {
      "cell_type": "code",
      "source": [
        "a/b"
      ],
      "metadata": {
        "colab": {
          "base_uri": "https://localhost:8080/"
        },
        "id": "UVAUID57gxkJ",
        "outputId": "14730687-41ce-4cfd-e251-efc37578d58c"
      },
      "execution_count": 15,
      "outputs": [
        {
          "output_type": "execute_result",
          "data": {
            "text/plain": [
              "1.1818181818181819"
            ]
          },
          "metadata": {},
          "execution_count": 15
        }
      ]
    },
    {
      "cell_type": "code",
      "source": [
        "print(\"modulus:\",a%b)"
      ],
      "metadata": {
        "colab": {
          "base_uri": "https://localhost:8080/"
        },
        "id": "0Ieuxe5VgzEJ",
        "outputId": "862541ef-1735-4adc-b6d8-064996c7b7b7"
      },
      "execution_count": 16,
      "outputs": [
        {
          "output_type": "stream",
          "name": "stdout",
          "text": [
            "modulus: 2\n"
          ]
        }
      ]
    },
    {
      "cell_type": "code",
      "source": [
        "print(\"exponentiation:\",a**b)"
      ],
      "metadata": {
        "colab": {
          "base_uri": "https://localhost:8080/"
        },
        "id": "lb7_9GeVhEMQ",
        "outputId": "1218e98b-0442-469c-aadb-253af293c7ab"
      },
      "execution_count": 17,
      "outputs": [
        {
          "output_type": "stream",
          "name": "stdout",
          "text": [
            "exponentiation: 1792160394037\n"
          ]
        }
      ]
    },
    {
      "cell_type": "code",
      "source": [
        "\n",
        "d=7425\n",
        "s=550\n",
        "t=d/s\n",
        "print(t)"
      ],
      "metadata": {
        "colab": {
          "base_uri": "https://localhost:8080/"
        },
        "id": "gcDLn9uhhLE4",
        "outputId": "a57b7de5-e326-44d5-bebb-345b25925165"
      },
      "execution_count": 20,
      "outputs": [
        {
          "output_type": "stream",
          "name": "stdout",
          "text": [
            "13.5\n"
          ]
        }
      ]
    },
    {
      "cell_type": "code",
      "source": [
        "bill=50\n",
        "print(\"tip:\",20*50/100)"
      ],
      "metadata": {
        "colab": {
          "base_uri": "https://localhost:8080/"
        },
        "id": "vCr2bu9Shp0O",
        "outputId": "a223e48d-bc24-4ed7-b49a-80d1226d4ab9"
      },
      "execution_count": 23,
      "outputs": [
        {
          "output_type": "stream",
          "name": "stdout",
          "text": [
            "tip: 10.0\n"
          ]
        }
      ]
    },
    {
      "cell_type": "code",
      "source": [
        "bill=50\n",
        "print(\"tip:\",40*50/100)"
      ],
      "metadata": {
        "colab": {
          "base_uri": "https://localhost:8080/"
        },
        "id": "5A9p9qU2jbq5",
        "outputId": "6d71a5de-ee25-4d4f-e660-7c9547b18ca8"
      },
      "execution_count": 25,
      "outputs": [
        {
          "output_type": "stream",
          "name": "stdout",
          "text": [
            "tip: 20.0\n"
          ]
        }
      ]
    },
    {
      "cell_type": "code",
      "source": [
        "bill=50\n",
        "print(\"tip:\",50*50/100)"
      ],
      "metadata": {
        "colab": {
          "base_uri": "https://localhost:8080/"
        },
        "id": "LW0R5p_4jwEY",
        "outputId": "3cd84420-db43-48c3-f444-1b56265e2719"
      },
      "execution_count": 26,
      "outputs": [
        {
          "output_type": "stream",
          "name": "stdout",
          "text": [
            "tip: 25.0\n"
          ]
        }
      ]
    },
    {
      "cell_type": "code",
      "source": [
        "bill=125\n",
        "print(\"tip\",20*125/100)"
      ],
      "metadata": {
        "colab": {
          "base_uri": "https://localhost:8080/"
        },
        "id": "buPhAX_8j4mv",
        "outputId": "79508e9a-0936-42cd-f1a7-a15e74e54d0f"
      },
      "execution_count": 27,
      "outputs": [
        {
          "output_type": "stream",
          "name": "stdout",
          "text": [
            "tip 25.0\n"
          ]
        }
      ]
    },
    {
      "cell_type": "code",
      "source": [
        "bill=int(input())\n",
        "tip=20/100*bill\n",
        "print(tip)"
      ],
      "metadata": {
        "colab": {
          "base_uri": "https://localhost:8080/"
        },
        "id": "_iUzY07kkJv3",
        "outputId": "b88481f7-e36a-4b04-f1f4-e5e5b8e63812"
      },
      "execution_count": 30,
      "outputs": [
        {
          "output_type": "stream",
          "name": "stdout",
          "text": [
            "1024\n",
            "204.8\n"
          ]
        }
      ]
    },
    {
      "cell_type": "code",
      "source": [
        "bill=int(input())\n",
        "tip=20/100*bill\n",
        "print(tip)"
      ],
      "metadata": {
        "colab": {
          "base_uri": "https://localhost:8080/"
        },
        "id": "TPYxF7tQkVP-",
        "outputId": "1eb3c3b1-43e3-4be0-bde5-aa1dfc814009"
      },
      "execution_count": 31,
      "outputs": [
        {
          "output_type": "stream",
          "name": "stdout",
          "text": [
            "125\n",
            "25.0\n"
          ]
        }
      ]
    },
    {
      "cell_type": "code",
      "source": [
        "bill=int(input())\n",
        "tip=20/100*bill\n",
        "print(tip)"
      ],
      "metadata": {
        "colab": {
          "base_uri": "https://localhost:8080/"
        },
        "id": "J3guSVvhkg-2",
        "outputId": "5918522a-eec8-4a4e-94bb-5a0558a3e997"
      },
      "execution_count": 32,
      "outputs": [
        {
          "output_type": "stream",
          "name": "stdout",
          "text": [
            "1000\n",
            "200.0\n"
          ]
        }
      ]
    },
    {
      "cell_type": "markdown",
      "source": [
        "# comparsion operators"
      ],
      "metadata": {
        "id": "HILaSbW1nRTS"
      }
    },
    {
      "cell_type": "code",
      "source": [
        "a=99834975847589\n",
        "b=20457893457895"
      ],
      "metadata": {
        "id": "0X4XMO4OkwE1"
      },
      "execution_count": 35,
      "outputs": []
    },
    {
      "cell_type": "code",
      "source": [
        "print(a > b)\n",
        "print(a < b)\n",
        "print(a == b)\n",
        "print(a >= b)\n",
        "print(a <= b)\n",
        "print(a != b)"
      ],
      "metadata": {
        "colab": {
          "base_uri": "https://localhost:8080/"
        },
        "id": "XSOHitEamJIJ",
        "outputId": "e3d36f05-cd07-4234-c48c-a8973fcb7645"
      },
      "execution_count": 36,
      "outputs": [
        {
          "output_type": "stream",
          "name": "stdout",
          "text": [
            "True\n",
            "False\n",
            "False\n",
            "True\n",
            "False\n",
            "True\n"
          ]
        }
      ]
    },
    {
      "cell_type": "markdown",
      "source": [
        "#logical operators"
      ],
      "metadata": {
        "id": "-S5M81eGnJ9T"
      }
    },
    {
      "cell_type": "code",
      "source": [
        "a = True\n",
        "b = False\n",
        "print(a and b)\n",
        "print(a or b)\n",
        "print(not a)"
      ],
      "metadata": {
        "colab": {
          "base_uri": "https://localhost:8080/"
        },
        "id": "FudCaKlRmcQ4",
        "outputId": "5d77b471-ad17-4869-e550-9fc605ca358e"
      },
      "execution_count": 37,
      "outputs": [
        {
          "output_type": "stream",
          "name": "stdout",
          "text": [
            "False\n",
            "True\n",
            "False\n"
          ]
        }
      ]
    },
    {
      "cell_type": "markdown",
      "source": [
        "# Assignment operators"
      ],
      "metadata": {
        "id": "qSt4MWdJoHb3"
      }
    },
    {
      "cell_type": "code",
      "source": [
        "a=10\n",
        "b=a"
      ],
      "metadata": {
        "id": "n4zEKNFzm5nG"
      },
      "execution_count": 38,
      "outputs": []
    },
    {
      "cell_type": "code",
      "source": [
        "print(b)\n",
        "b += a\n",
        "print(b)\n",
        "b -= a\n",
        "print(b)\n",
        "b *= a\n",
        "print(b)\n",
        "b <<= a\n",
        "print(b)\n"
      ],
      "metadata": {
        "colab": {
          "base_uri": "https://localhost:8080/"
        },
        "id": "MBOF44KtoPh6",
        "outputId": "877c8b1d-edcd-4264-f17d-8a1a10f41c56"
      },
      "execution_count": 39,
      "outputs": [
        {
          "output_type": "stream",
          "name": "stdout",
          "text": [
            "10\n",
            "20\n",
            "10\n",
            "100\n",
            "102400\n"
          ]
        }
      ]
    },
    {
      "cell_type": "markdown",
      "source": [
        "# Identity operators"
      ],
      "metadata": {
        "id": "8Fc0IzJupR9N"
      }
    },
    {
      "cell_type": "code",
      "source": [
        "a = 10\n",
        "b = 20\n",
        "c = a"
      ],
      "metadata": {
        "id": "PmU7jfYIok7h"
      },
      "execution_count": 40,
      "outputs": []
    },
    {
      "cell_type": "code",
      "source": [
        "print(a is not b)\n",
        "print(a is c)\n",
        "print(b is c)"
      ],
      "metadata": {
        "colab": {
          "base_uri": "https://localhost:8080/"
        },
        "id": "CunUoV_hpbsf",
        "outputId": "c70d609b-ced7-4dd8-de6c-e306890a30dd"
      },
      "execution_count": 41,
      "outputs": [
        {
          "output_type": "stream",
          "name": "stdout",
          "text": [
            "True\n",
            "True\n",
            "False\n"
          ]
        }
      ]
    },
    {
      "cell_type": "markdown",
      "source": [
        "# Membership operators"
      ],
      "metadata": {
        "id": "uagS2jK_pxCK"
      }
    },
    {
      "cell_type": "code",
      "source": [
        "x = 10\n",
        "y = 15\n",
        "list = [10,20,30,40,50]\n",
        "if (x not in list):\n",
        "  print(\"x is not present in the class\")\n",
        "else:\n",
        "  print(\"x is present in the class\")\n",
        "if(y in list):\n",
        "  print(\"y is present in the class\")\n",
        "else:\n",
        "  print(\"y is not present in the class\")"
      ],
      "metadata": {
        "colab": {
          "base_uri": "https://localhost:8080/"
        },
        "id": "wFacc63ypjEG",
        "outputId": "9454fdd9-da95-40dd-90f8-a92f964efd8d"
      },
      "execution_count": 43,
      "outputs": [
        {
          "output_type": "stream",
          "name": "stdout",
          "text": [
            "x is present in the class\n",
            "y is not present in the class\n"
          ]
        }
      ]
    },
    {
      "cell_type": "markdown",
      "source": [
        "# The \"+\" operators"
      ],
      "metadata": {
        "id": "h4DIlz4Hrl2u"
      }
    },
    {
      "cell_type": "code",
      "source": [
        "(1,2,3)+(4,5,6)"
      ],
      "metadata": {
        "colab": {
          "base_uri": "https://localhost:8080/"
        },
        "id": "baRkdfsAqklU",
        "outputId": "a2a3c5cf-c773-4039-fb29-c8c7d2f86521"
      },
      "execution_count": 44,
      "outputs": [
        {
          "output_type": "execute_result",
          "data": {
            "text/plain": [
              "(1, 2, 3, 4, 5, 6)"
            ]
          },
          "metadata": {},
          "execution_count": 44
        }
      ]
    },
    {
      "cell_type": "code",
      "source": [
        "[1,2,3]+[4,5,6]"
      ],
      "metadata": {
        "colab": {
          "base_uri": "https://localhost:8080/"
        },
        "id": "P_nbBzDaru4w",
        "outputId": "07b2f404-2543-42ec-de2c-a710f4060c84"
      },
      "execution_count": 45,
      "outputs": [
        {
          "output_type": "execute_result",
          "data": {
            "text/plain": [
              "[1, 2, 3, 4, 5, 6]"
            ]
          },
          "metadata": {},
          "execution_count": 45
        }
      ]
    },
    {
      "cell_type": "code",
      "source": [
        "\"Hello \" + \"\" + \"world\""
      ],
      "metadata": {
        "colab": {
          "base_uri": "https://localhost:8080/",
          "height": 35
        },
        "id": "p3_DMY8Mr0Qf",
        "outputId": "767cf6fa-6de5-4fc4-dbe3-f2a28055fee9"
      },
      "execution_count": 48,
      "outputs": [
        {
          "output_type": "execute_result",
          "data": {
            "text/plain": [
              "'Hello world'"
            ],
            "application/vnd.google.colaboratory.intrinsic+json": {
              "type": "string"
            }
          },
          "metadata": {},
          "execution_count": 48
        }
      ]
    },
    {
      "cell_type": "markdown",
      "source": [
        "# The \"*\" operators"
      ],
      "metadata": {
        "id": "IVF4ztwosEiE"
      }
    },
    {
      "cell_type": "code",
      "source": [
        "(1,2,3)*3"
      ],
      "metadata": {
        "colab": {
          "base_uri": "https://localhost:8080/"
        },
        "id": "8EdRMBmVr6-H",
        "outputId": "e7820499-c757-4612-b272-dc6a59242b0f"
      },
      "execution_count": 49,
      "outputs": [
        {
          "output_type": "execute_result",
          "data": {
            "text/plain": [
              "(1, 2, 3, 1, 2, 3, 1, 2, 3)"
            ]
          },
          "metadata": {},
          "execution_count": 49
        }
      ]
    },
    {
      "cell_type": "code",
      "source": [
        "[1,2,3]*3"
      ],
      "metadata": {
        "colab": {
          "base_uri": "https://localhost:8080/"
        },
        "id": "ekAUIcqusMV2",
        "outputId": "5488460e-82f2-487b-ee4f-afa0e56f1229"
      },
      "execution_count": 50,
      "outputs": [
        {
          "output_type": "execute_result",
          "data": {
            "text/plain": [
              "[1, 2, 3, 1, 2, 3, 1, 2, 3]"
            ]
          },
          "metadata": {},
          "execution_count": 50
        }
      ]
    },
    {
      "cell_type": "code",
      "source": [
        "\"Hello \"*3"
      ],
      "metadata": {
        "colab": {
          "base_uri": "https://localhost:8080/",
          "height": 35
        },
        "id": "KwMfEPbmsO9m",
        "outputId": "47355390-dfc7-4c99-ab95-a39dcd6e699d"
      },
      "execution_count": 51,
      "outputs": [
        {
          "output_type": "execute_result",
          "data": {
            "text/plain": [
              "'Hello Hello Hello '"
            ],
            "application/vnd.google.colaboratory.intrinsic+json": {
              "type": "string"
            }
          },
          "metadata": {},
          "execution_count": 51
        }
      ]
    },
    {
      "cell_type": "markdown",
      "source": [
        "# The if-else ststement"
      ],
      "metadata": {
        "id": "hETmuvrGuFMu"
      }
    },
    {
      "cell_type": "code",
      "source": [
        "age = 16\n",
        "if age < 18:\n",
        "  print(\"you can't vote!\")\n",
        "else:\n",
        "  print(\"you can vote!\")\n",
        "print(\"done!\")"
      ],
      "metadata": {
        "colab": {
          "base_uri": "https://localhost:8080/"
        },
        "id": "oIo58OPIsSWu",
        "outputId": "d133b89b-ab20-4f14-cdf2-d6b39a08c2cd"
      },
      "execution_count": 55,
      "outputs": [
        {
          "output_type": "stream",
          "name": "stdout",
          "text": [
            "you can't vote!\n",
            "done!\n"
          ]
        }
      ]
    },
    {
      "cell_type": "code",
      "source": [
        "#short hand\n",
        "#if-else\n",
        "age = 20\n",
        "print(\"you can't vote!\") if age<18 else print(\"you can vote!\")\n",
        "print(\"Done\")"
      ],
      "metadata": {
        "colab": {
          "base_uri": "https://localhost:8080/"
        },
        "id": "hXKv3TU_ukH3",
        "outputId": "f0ab6265-0ca8-41b2-c284-b94012c3107a"
      },
      "execution_count": 54,
      "outputs": [
        {
          "output_type": "stream",
          "name": "stdout",
          "text": [
            "you can vote!\n",
            "Done\n"
          ]
        }
      ]
    },
    {
      "cell_type": "code",
      "source": [
        "age=int(input(\"enter your age:\"))\n",
        "if age < 18:\n",
        "  print(\"you are eligible for vote!\")\n",
        "else:\n",
        "  print(\"you are eligible for vote!\")\n",
        "print(\"done!\")"
      ],
      "metadata": {
        "colab": {
          "base_uri": "https://localhost:8080/"
        },
        "id": "OJlGyRSXvBZG",
        "outputId": "6f6d9a1f-4f37-4841-caa2-1ae617c24a83"
      },
      "execution_count": 63,
      "outputs": [
        {
          "output_type": "stream",
          "name": "stdout",
          "text": [
            "enter your age:22\n",
            "you are eligible for vote!\n",
            "done!\n"
          ]
        }
      ]
    },
    {
      "cell_type": "code",
      "source": [
        "age=int(input(\"enter your age:\"))\n",
        "if age < 18:\n",
        "  print(\"you are eligible for vote!\")\n",
        "else:\n",
        "  print(\"you are eligible for vote!\")\n",
        "print(\"done!\")"
      ],
      "metadata": {
        "colab": {
          "base_uri": "https://localhost:8080/"
        },
        "id": "6kSzhIU3v08L",
        "outputId": "f0cfd1a7-1ed5-4160-e638-e5858d6a89c4"
      },
      "execution_count": 64,
      "outputs": [
        {
          "output_type": "stream",
          "name": "stdout",
          "text": [
            "enter your age:17\n",
            "you are eligible for vote!\n",
            "done!\n"
          ]
        }
      ]
    },
    {
      "cell_type": "markdown",
      "source": [
        "# if statement example"
      ],
      "metadata": {
        "id": "pHeEACpsxqKq"
      }
    },
    {
      "cell_type": "code",
      "source": [
        "if 5 > 1:\n",
        "        print(\"that is true!\")"
      ],
      "metadata": {
        "colab": {
          "base_uri": "https://localhost:8080/"
        },
        "id": "QLvo3ZgFv9Lz",
        "outputId": "f851d7b1-cfc9-4814-e2f2-226b0c762a91"
      },
      "execution_count": 65,
      "outputs": [
        {
          "output_type": "stream",
          "name": "stdout",
          "text": [
            "that is true!\n"
          ]
        }
      ]
    },
    {
      "cell_type": "markdown",
      "source": [
        "# Nested if statement"
      ],
      "metadata": {
        "id": "5d39aCeDye_z"
      }
    },
    {
      "cell_type": "code",
      "source": [
        "x = 35\n",
        "if x > 20:\n",
        "  print(\"Above twenty,\")\n",
        "  if x > 30:\n",
        "    print(\"and also above 30!\")"
      ],
      "metadata": {
        "colab": {
          "base_uri": "https://localhost:8080/"
        },
        "id": "kHYO2wo4ydmj",
        "outputId": "76f9b4ae-7e79-4131-db13-39ac340c1493"
      },
      "execution_count": 66,
      "outputs": [
        {
          "output_type": "stream",
          "name": "stdout",
          "text": [
            "Above twenty,\n",
            "and also above 30!\n"
          ]
        }
      ]
    },
    {
      "cell_type": "markdown",
      "source": [
        "# The elif keyword"
      ],
      "metadata": {
        "id": "dgEqYULyzWir"
      }
    },
    {
      "cell_type": "code",
      "source": [
        "a = 33\n",
        "b = 33\n",
        "if b > a:\n",
        "  print(\"b is greater than a\")\n",
        "elif a == b:\n",
        "  print(\"a and b is equal\")"
      ],
      "metadata": {
        "colab": {
          "base_uri": "https://localhost:8080/"
        },
        "id": "1jFMpLuAy7jK",
        "outputId": "b0420bb4-443b-4ea8-e211-97ec7e3dacbb"
      },
      "execution_count": 67,
      "outputs": [
        {
          "output_type": "stream",
          "name": "stdout",
          "text": [
            "a and b is equal\n"
          ]
        }
      ]
    },
    {
      "cell_type": "code",
      "source": [
        "a = 200\n",
        "b = 33\n",
        "if a > b: print(\"a is greater than b\")"
      ],
      "metadata": {
        "colab": {
          "base_uri": "https://localhost:8080/"
        },
        "id": "8WxGL7wLzyHf",
        "outputId": "6655fbef-2fc1-4d78-95dd-ac9857c542e3"
      },
      "execution_count": 68,
      "outputs": [
        {
          "output_type": "stream",
          "name": "stdout",
          "text": [
            "a is greater than b\n"
          ]
        }
      ]
    },
    {
      "cell_type": "code",
      "source": [
        "a = 200\n",
        "b = 33\n",
        "if b > a:\n",
        "  print(\"b is greater than a\")\n",
        "elif a == b:\n",
        "  print(\"a and b is equal\")\n",
        "else:\n",
        "  print(\"a is greater than b\")"
      ],
      "metadata": {
        "colab": {
          "base_uri": "https://localhost:8080/"
        },
        "id": "sQ2ohBZIz7HH",
        "outputId": "e0ad759d-1db4-415c-dda0-34cd6af5d959"
      },
      "execution_count": 71,
      "outputs": [
        {
          "output_type": "stream",
          "name": "stdout",
          "text": [
            "a is greater than b\n"
          ]
        }
      ]
    },
    {
      "cell_type": "code",
      "source": [
        "a = 2\n",
        "b = 330\n",
        "print(\"A\")if a > b else print(\"B\")"
      ],
      "metadata": {
        "colab": {
          "base_uri": "https://localhost:8080/"
        },
        "id": "a9-uZaly0Bpe",
        "outputId": "5cb2b423-8a78-429f-f974-a45b93665057"
      },
      "execution_count": 72,
      "outputs": [
        {
          "output_type": "stream",
          "name": "stdout",
          "text": [
            "B\n"
          ]
        }
      ]
    },
    {
      "cell_type": "code",
      "source": [
        "a = int(input(\"a value is:\" ))\n",
        "b = int(input(\"b value is:\" ))\n",
        "if b > a:\n",
        "  print(\"b is greater than a\")\n",
        "elif a == b:\n",
        "  print(\"a and b is equal\")\n",
        "else:\n",
        "  print(\"a is greater than b\")"
      ],
      "metadata": {
        "colab": {
          "base_uri": "https://localhost:8080/"
        },
        "id": "qDMw6QvK0egl",
        "outputId": "13ee44e4-249a-4588-81be-10d20c65c57c"
      },
      "execution_count": 76,
      "outputs": [
        {
          "output_type": "stream",
          "name": "stdout",
          "text": [
            "a value is:2\n",
            "b value is:3\n",
            "b is greater than a\n"
          ]
        }
      ]
    },
    {
      "cell_type": "code",
      "source": [
        "a = int(input(\"a value is:\" ))\n",
        "b = int(input(\"b value is:\" ))\n",
        "if b > a:\n",
        "  print(\"b is greater than a\")\n",
        "elif a == b:\n",
        "  print(\"a and b is equal\")\n",
        "else:\n",
        "  print(\"a is greater than b\")"
      ],
      "metadata": {
        "colab": {
          "base_uri": "https://localhost:8080/"
        },
        "id": "uwO-jV_E0qfU",
        "outputId": "a97c1f7e-b435-4eff-de22-187f7aa7d8ed"
      },
      "execution_count": 77,
      "outputs": [
        {
          "output_type": "stream",
          "name": "stdout",
          "text": [
            "a value is:100\n",
            "b value is:100\n",
            "a and b is equal\n"
          ]
        }
      ]
    },
    {
      "cell_type": "markdown",
      "source": [
        "# Example"
      ],
      "metadata": {
        "id": "Rje-GFZM1Jyw"
      }
    },
    {
      "cell_type": "code",
      "source": [
        "#program check if the number is positive or negative\n",
        "#and displays an apporpriate massage\n",
        "num = 3\n",
        "#try these two variations as well.\n",
        "#num = -5\n",
        "#num = 0\n",
        "if num >= 0:\n",
        "  print(\"positive or zero\")\n",
        "else:\n",
        "  print(\"negative number\")"
      ],
      "metadata": {
        "colab": {
          "base_uri": "https://localhost:8080/"
        },
        "id": "4ED9h8US1ET2",
        "outputId": "3de77dd6-d747-4e57-b644-f55f969c0dce"
      },
      "execution_count": 79,
      "outputs": [
        {
          "output_type": "stream",
          "name": "stdout",
          "text": [
            "positive or zero\n"
          ]
        }
      ]
    },
    {
      "cell_type": "code",
      "source": [
        "num = int(input(\"enter a number: \"))\n",
        "if num % 2 == 0:\n",
        "  print(\"even\")\n",
        "else:\n",
        "  print(\"odd\")"
      ],
      "metadata": {
        "colab": {
          "base_uri": "https://localhost:8080/"
        },
        "id": "Wpq4WL2S2BKg",
        "outputId": "1beaffe0-35bb-4e99-afc9-976997427678"
      },
      "execution_count": 80,
      "outputs": [
        {
          "output_type": "stream",
          "name": "stdout",
          "text": [
            "enter a number: 2\n",
            "even\n"
          ]
        }
      ]
    },
    {
      "cell_type": "markdown",
      "source": [
        "# and"
      ],
      "metadata": {
        "id": "J43ANQVW2knk"
      }
    },
    {
      "cell_type": "code",
      "source": [
        "a = 200\n",
        "b = 33\n",
        "c = 500\n",
        "if a > b and c > a:\n",
        "  print(\"both conditions are true\")"
      ],
      "metadata": {
        "colab": {
          "base_uri": "https://localhost:8080/"
        },
        "id": "2PjRj4CQ2cnP",
        "outputId": "61f6c046-2b6e-4ee3-e065-49ea08f2a3ee"
      },
      "execution_count": 82,
      "outputs": [
        {
          "output_type": "stream",
          "name": "stdout",
          "text": [
            "both conditions are true\n"
          ]
        }
      ]
    },
    {
      "cell_type": "markdown",
      "source": [
        "# or"
      ],
      "metadata": {
        "id": "7jJz-rja27ly"
      }
    },
    {
      "cell_type": "code",
      "source": [
        "a = 200\n",
        "b = 33\n",
        "c = 500\n",
        "if a > b or a > c:\n",
        "  print()"
      ],
      "metadata": {
        "id": "lDD12-LN2zKG"
      },
      "execution_count": 83,
      "outputs": []
    },
    {
      "cell_type": "markdown",
      "source": [
        "# BMI calculator"
      ],
      "metadata": {
        "id": "8uDG1gGOFwR9"
      }
    },
    {
      "cell_type": "code",
      "source": [
        "  w = int(input(\"enter  weight:\"))\n",
        "  h = float(input(\"enter heighr:\"))\n",
        "  b=w/(h**2) #formula\n",
        "  if b<18.5:\n",
        "    print(\"under weight!\")\n",
        "  elif b<=25:\n",
        "    print(\"normal!\")\n",
        "  elif b>=30:\n",
        "    print(\"obesity!\")\n",
        "  else:\n",
        "      print(\"over weight!\")"
      ],
      "metadata": {
        "colab": {
          "base_uri": "https://localhost:8080/"
        },
        "id": "Ev0PzQn63CFd",
        "outputId": "e3d7c6f4-974c-4841-a3b2-edfd298d3dbb"
      },
      "execution_count": 93,
      "outputs": [
        {
          "output_type": "stream",
          "name": "stdout",
          "text": [
            "enter  weight:85\n",
            "enter heighr:1.9\n",
            "normal!\n"
          ]
        }
      ]
    },
    {
      "cell_type": "code",
      "source": [
        "w = int(input(\"enter  weight:\"))\n",
        "h = float(input(\"enter heighr:\"))\n",
        "b=w/(h**2) #formula\n",
        "if b<18.5:\n",
        "  print(\"under weight!\")\n",
        "if b<=25:\n",
        "  print(\"normal!\")\n",
        "if b>=30:\n",
        "  print(\"obesity!\")\n",
        "if b >=25 and x < 30:\n",
        "    print(\"over weight!\")"
      ],
      "metadata": {
        "colab": {
          "base_uri": "https://localhost:8080/"
        },
        "id": "x7IpsKIYG-xN",
        "outputId": "0ce1ac37-e933-47e5-8d79-aeda4def7e8f"
      },
      "execution_count": 100,
      "outputs": [
        {
          "output_type": "stream",
          "name": "stdout",
          "text": [
            "enter  weight:85\n",
            "enter heighr:1.9\n",
            "normal!\n"
          ]
        }
      ]
    },
    {
      "cell_type": "code",
      "source": [],
      "metadata": {
        "id": "aebwHtGpID_5"
      },
      "execution_count": 100,
      "outputs": []
    }
  ]
}